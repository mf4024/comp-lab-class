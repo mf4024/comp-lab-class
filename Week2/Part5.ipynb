{
 "cells": [
  {
   "cell_type": "code",
   "execution_count": 9,
   "metadata": {},
   "outputs": [
    {
     "data": {
      "text/plain": [
       "57"
      ]
     },
     "execution_count": 9,
     "metadata": {},
     "output_type": "execute_result"
    }
   ],
   "source": [
    "import numpy as np\n",
    "import mdtraj as md\n",
    "import os\n",
    "#open a pdb file\n",
    "traj = md.load_pdb('../Data/1UBQ_processed.pdb')\n",
    "# Find the number of H-bonds in the system\n",
    "def find_hbonds(traj):\n",
    "    # Find the hydrogen bonds in the system\n",
    "    hbonds = md.baker_hubbard(traj, periodic=False)\n",
    "    # Find the number of H-bonds in the system\n",
    "    num_hbonds = hbonds.shape[0]\n",
    "    return num_hbonds\n",
    "\n",
    "find_hbonds(traj)\n"
   ]
  },
  {
   "cell_type": "code",
   "execution_count": 5,
   "metadata": {},
   "outputs": [
    {
     "data": {
      "text/plain": [
       "18"
      ]
     },
     "execution_count": 5,
     "metadata": {},
     "output_type": "execute_result"
    }
   ],
   "source": [
    "find_hbonds(traj)\n",
    "#Find the number of helical amino acids\n",
    "def find_helical_aminoacid(traj):\n",
    "    # Find the secondary structure of the protein\n",
    "    secondary_struct = md.compute_dssp(traj)\n",
    "    # Find the number of helical amino acids\n",
    "    num_helical_aminoacid = np.sum(secondary_struct == 'H')\n",
    "    return num_helical_aminoacid\n",
    "find_helical_aminoacid(traj)\n"
   ]
  },
  {
   "cell_type": "code",
   "execution_count": null,
   "metadata": {},
   "outputs": [],
   "source": []
  }
 ],
 "metadata": {
  "kernelspec": {
   "display_name": "lab_env",
   "language": "python",
   "name": "lab_env"
  },
  "language_info": {
   "codemirror_mode": {
    "name": "ipython",
    "version": 3
   },
   "file_extension": ".py",
   "mimetype": "text/x-python",
   "name": "python",
   "nbconvert_exporter": "python",
   "pygments_lexer": "ipython3",
   "version": "3.9.12"
  }
 },
 "nbformat": 4,
 "nbformat_minor": 4
}
