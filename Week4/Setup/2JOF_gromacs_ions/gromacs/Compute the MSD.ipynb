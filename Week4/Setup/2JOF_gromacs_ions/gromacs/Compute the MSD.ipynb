{
 "cells": [
  {
   "cell_type": "code",
   "execution_count": 2,
   "metadata": {},
   "outputs": [
    {
     "name": "stdout",
     "output_type": "stream",
     "text": [
      "[0 0 0 1 1 1 1 1 1 1 1 1 2 2 2 2 2 2 2 2 2 2 2 2 2 2 3 3 3 3 3 3 3 3 3 3 3\n",
      " 3 3 3 3 3 3 3 3 3 3 4 4 4 4 4 4 4 4 4 4 4 4 4 4 4 4 4 4 4 4 4 4 4 4 4 4 4\n",
      " 5 5 5 5 5 5 5 5 5 5 5 5 5 5 5 5 5 5 5 5 5 5 5 5 5 5 5]\n",
      "[0 0 0 0 1 1 1 1 1 1 1 1 1 2 2 2 2 2 2 2 2 2 2 2 2 2 2 3 3 3 3 3 3 3 3 3 3\n",
      " 3 3 3 3 3 3 3 3 3 3 3 4 4 4 4 4 4 4 4 4 4 4 4 4 4 4 4 4 4 4 4 4 4 4 4 4 4\n",
      " 4 5 5 5 5 5 5 5 5 5 5 5 5 5 5 5 5 5 5 5 5 5 5 5 5 5 5]\n",
      "[0 0 0 0 0 1 1 1 1 1 1 1 1 1 2 2 2 2 2 2 2 2 2 2 2 2 2 2 2 3 3 3 3 3 3 3 3\n",
      " 3 3 3 3 3 3 3 3 3 3 3 3 3 4 4 4 4 4 4 4 4 4 4 4 4 4 4 4 4 4 4 4 4 4 4 4 4\n",
      " 4 4 5 5 5 5 5 5 5 5 5 5 5 5 5 5 5 5 5 5 5 5 5 5 5 5 5]\n"
     ]
    }
   ],
   "source": [
    "import numpy as np\n",
    "import mdtraj as md\n",
    "\n",
    "# load xtc file\n",
    "traj = md.load_xtc('ions_center.xtc', top='step5_9.gro')\n",
    "\n",
    "# function to calculate MSD for a given atom\n",
    "def msd(traj, atom):\n",
    "    # chlorine\n",
    "    if atom == 0:\n",
    "        return md.rmsd(traj, traj, 0)\n",
    "    # sodium\n",
    "    elif atom == 1:\n",
    "        return md.rmsd(traj, traj, 1)\n",
    "    # oxygen\n",
    "    elif atom == 2:\n",
    "        return md.rmsd(traj, traj, 2)\n",
    "\n",
    "# convert values to integer type\n",
    "msd_cl = msd(traj, 0).astype(int)\n",
    "msd_na = msd(traj, 1).astype(int)\n",
    "msd_o = msd(traj, 2).astype(int)\n",
    "\n",
    "print(msd_cl)\n",
    "print(msd_na)\n",
    "print(msd_o)"
   ]
  },
  {
   "cell_type": "code",
   "execution_count": 3,
   "metadata": {},
   "outputs": [
    {
     "name": "stdout",
     "output_type": "stream",
     "text": [
      "3.396039603960396\n",
      "3.3465346534653464\n",
      "3.277227722772277\n"
     ]
    }
   ],
   "source": [
    "#Not sure what does the problem wants, but here is the average of numbers in each array ablove\n",
    "#Calculate the average of the MSDs\n",
    "avg_msd_cl = np.mean(msd_cl)\n",
    "avg_msd_na = np.mean(msd_na)\n",
    "avg_msd_o = np.mean(msd_o)\n",
    "print(avg_msd_cl)\n",
    "print(avg_msd_na)\n",
    "print(avg_msd_o)\n"
   ]
  },
  {
   "cell_type": "code",
   "execution_count": null,
   "metadata": {},
   "outputs": [],
   "source": []
  }
 ],
 "metadata": {
  "kernelspec": {
   "display_name": "lab_env",
   "language": "python",
   "name": "lab_env"
  },
  "language_info": {
   "codemirror_mode": {
    "name": "ipython",
    "version": 3
   },
   "file_extension": ".py",
   "mimetype": "text/x-python",
   "name": "python",
   "nbconvert_exporter": "python",
   "pygments_lexer": "ipython3",
   "version": "3.9.12"
  }
 },
 "nbformat": 4,
 "nbformat_minor": 4
}
