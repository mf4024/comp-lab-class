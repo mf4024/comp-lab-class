{
 "cells": [
  {
   "cell_type": "code",
   "execution_count": 1,
   "metadata": {},
   "outputs": [
    {
     "data": {
      "text/plain": [
       "array([[0.0000e+00, 0.0000e+00, 1.0000e+00, 2.0000e+00, 3.0000e+00],\n",
       "       [1.0000e-01, 1.0000e+00, 0.0000e+00, 3.0000e+00, 2.0000e+00],\n",
       "       [2.0000e-01, 2.0000e+00, 0.0000e+00, 3.0000e+00, 1.0000e+00],\n",
       "       ...,\n",
       "       [4.9997e+03, 3.0000e+00, 0.0000e+00, 1.0000e+00, 2.0000e+00],\n",
       "       [4.9998e+03, 3.0000e+00, 0.0000e+00, 2.0000e+00, 1.0000e+00],\n",
       "       [4.9999e+03, 2.0000e+00, 0.0000e+00, 3.0000e+00, 1.0000e+00]])"
      ]
     },
     "execution_count": 1,
     "metadata": {},
     "output_type": "execute_result"
    }
   ],
   "source": [
    "import matplotlib.pyplot as plt\n",
    "import sys\n",
    "import numpy as np\n",
    "def read_xvg(filename):\n",
    "    with open(filename, 'r') as f:\n",
    "        lines = f.readlines()\n",
    "        data = []\n",
    "        for line in lines:\n",
    "            if line.startswith('#'):\n",
    "                continue\n",
    "            if line.startswith('@'):\n",
    "                continue\n",
    "            if line.startswith('&'):\n",
    "                continue\n",
    "            if line.startswith('*'):\n",
    "                continue\n",
    "            data.append(line.split())\n",
    "    return np.array(data, dtype=float)\n",
    "read_xvg(\"replica_temp.xvg\")"
   ]
  },
  {
   "cell_type": "code",
   "execution_count": null,
   "metadata": {},
   "outputs": [],
   "source": [
    "for i in range(1, 5):\n",
    "    data = read_xvg(\"replica_temp.xvg\")\n",
    "    plt.plot(data[:10,0], data[:10,i], label=\"Replica %d\" % i)\n",
    "    plt.ylabel('Temperature')\n",
    "    plt.xlabel('Time(ps)')"
   ]
  }
 ],
 "metadata": {
  "kernelspec": {
   "display_name": "Python 3",
   "language": "python",
   "name": "python3"
  },
  "language_info": {
   "codemirror_mode": {
    "name": "ipython",
    "version": 3
   },
   "file_extension": ".py",
   "mimetype": "text/x-python",
   "name": "python",
   "nbconvert_exporter": "python",
   "pygments_lexer": "ipython3",
   "version": "3.8.6"
  }
 },
 "nbformat": 4,
 "nbformat_minor": 4
}
